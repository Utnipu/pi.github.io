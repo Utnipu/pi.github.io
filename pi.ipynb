{
  "cells": [
    {
      "cell_type": "markdown",
      "metadata": {
        "id": "view-in-github",
        "colab_type": "text"
      },
      "source": [
        "<a href=\"https://colab.research.google.com/github/Utnipu/Pi-program-in-python/blob/main/pi.ipynb\" target=\"_parent\"><img src=\"https://colab.research.google.com/assets/colab-badge.svg\" alt=\"Open In Colab\"/></a>"
      ]
    },
    {
      "cell_type": "code",
      "source": [
        "\n",
        "import decimal \n",
        "import math \n",
        "#we use Chundnovsky's formulae\n",
        "def compute_pi(n):\n",
        "  \n",
        "  \n",
        "  decimal.getcontext().prec = n + 3\n",
        "  \n",
        "  \n",
        "  C = 426880 * decimal.Decimal(10005).sqrt()\n",
        "  K = decimal.Decimal(6)\n",
        "  M = decimal.Decimal(1)\n",
        "  X = decimal.Decimal(1)\n",
        "  L = decimal.Decimal(13591409)\n",
        "  S = L\n",
        "  \n",
        "  # For better precision, we calculate to n+3 and truncate the last two digits\n",
        "  for i in range(1, n+3):\n",
        "    M = decimal.Decimal(M* ((1728*i*i*i)-(2592*i*i)+(1104*i)-120)/(i*i*i))\n",
        "    L = decimal.Decimal(545140134+L)\n",
        "    X = decimal.Decimal(-262537412640768000*X)\n",
        "    S += decimal.Decimal((M*L) / X)\n",
        "    \n",
        "  return str(C/S)[:-2] \n",
        "n=int(input(\"Enter decimal places:\"))\n",
        "P=compute_pi(n)\n",
        "print(P)"
      ],
      "metadata": {
        "id": "ejbqZEAvi8DY",
        "colab": {
          "base_uri": "https://localhost:8080/"
        },
        "outputId": "dfe10479-31e3-4746-e505-f6698811b9af"
      },
      "execution_count": 1,
      "outputs": [
        {
          "output_type": "stream",
          "name": "stdout",
          "text": [
            "Enter decimal places:100\n",
            "3.1415926535897932384626433832795028841971693993751058209749445923078164062862089986280348253421170679\n"
          ]
        }
      ]
    }
  ],
  "metadata": {
    "colab": {
      "provenance": [],
      "include_colab_link": true
    },
    "kernelspec": {
      "display_name": "Python 3",
      "name": "python3"
    },
    "language_info": {
      "name": "python"
    }
  },
  "nbformat": 4,
  "nbformat_minor": 0
}